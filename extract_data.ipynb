{
 "cells": [
  {
   "cell_type": "code",
   "execution_count": 1,
   "metadata": {},
   "outputs": [],
   "source": [
    "import os\n",
    "import pandas as pd\n",
    "from src import download\n",
    "from src.core import Proposicao"
   ]
  },
  {
   "cell_type": "code",
   "execution_count": null,
   "metadata": {},
   "outputs": [],
   "source": [
    "projs = pd.read_excel(r\"./projetos_selecionados.xlsx\")\n",
    "\n",
    "for idx in projs.index:\n",
    "    prop = Proposicao(\n",
    "        sigla_tipo=projs.loc[idx, \"tipo\"],\n",
    "        numero=projs.loc[idx, \"código\"],\n",
    "        ano=projs.loc[idx, \"ano \"],\n",
    "    )\n",
    "\n",
    "    resp = download.get_projects_by_name([prop])\n",
    "\n",
    "    arvore = download.get_arvore_apensados(resp)\n",
    "\n",
    "    autores = download.get_autores(arvore.nodes)\n",
    "\n",
    "    props_detalhes = download.get_proposicoes_detalhes(arvore.nodes)\n",
    "\n",
    "    votacoes = download.get_votacoes(arvore.nodes)\n",
    "\n",
    "    votos = download.get_votos(votacoes)\n",
    "\n",
    "    nome_tema = projs.loc[idx, \"tema \"]\n",
    "\n",
    "    path = f\"./data/{nome_tema}\"\n",
    "    try:\n",
    "        os.mkdir(path)\n",
    "    except FileExistsError:\n",
    "        pass\n",
    "\n",
    "    pd.DataFrame(props_detalhes).to_csv(path + \"/projetos.csv\")\n",
    "    pd.DataFrame(autores).to_csv(path + \"/autores.csv\")\n",
    "    pd.DataFrame(votacoes).to_csv(path + \"/votacoes.csv\")\n",
    "    pd.DataFrame(votos).to_csv(path + \"/votos.csv\")\n"
   ]
  }
 ],
 "metadata": {
  "kernelspec": {
   "display_name": "Python 3",
   "language": "python",
   "name": "python3"
  },
  "language_info": {
   "codemirror_mode": {
    "name": "ipython",
    "version": 3
   },
   "file_extension": ".py",
   "mimetype": "text/x-python",
   "name": "python",
   "nbconvert_exporter": "python",
   "pygments_lexer": "ipython3",
   "version": "3.10.12"
  },
  "orig_nbformat": 4
 },
 "nbformat": 4,
 "nbformat_minor": 2
}
