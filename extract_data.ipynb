{
 "cells": [
  {
   "cell_type": "code",
   "execution_count": 1,
   "metadata": {},
   "outputs": [],
   "source": [
    "import requests\n",
    "import pandas as pd\n",
    "import json\n",
    "from core.config import Config, get_data\n",
    "from tqdm import tqdm\n",
    "import os\n",
    "\n",
    "from core.parlamentar import Parlamentar, ParlamentarDetalhes, ParlamentarProfissao"
   ]
  },
  {
   "attachments": {},
   "cell_type": "markdown",
   "metadata": {},
   "source": [
    "# Parlamentares"
   ]
  },
  {
   "attachments": {},
   "cell_type": "markdown",
   "metadata": {},
   "source": [
    "## Parlamentar detalhes"
   ]
  },
  {
   "cell_type": "code",
   "execution_count": 5,
   "metadata": {},
   "outputs": [
    {
     "name": "stderr",
     "output_type": "stream",
     "text": [
      "100%|██████████| 1814/1814 [19:51<00:00,  1.52it/s]\n"
     ]
    }
   ],
   "source": [
    "folder_detalhes = './data/parlamentares_detalhes'\n",
    "folder_profissoes = './data/parlamentares_profissoes'\n",
    "folder_ocupacoes = './data/parlamentares_ocupacoes'\n",
    "\n",
    "with open(f'./data/parlamentares/deputados.json', 'r') as f:\n",
    "    parls = json.load(f)\n",
    "\n",
    "parls_ids = [p['id'] for p in parls]\n",
    "for parl_id in tqdm(parls_ids):\n",
    "    #detalhes\n",
    "    config_det = Config(\n",
    "        endpoint='deputados',\n",
    "        parameters={'id': parl_id},\n",
    "        file_name=parl_id\n",
    "    )\n",
    "    data_det = get_data(config_det.url)\n",
    "    with open(f'{folder_detalhes}/{config_det.file_name}.json', 'w') as f:\n",
    "        json.dump(data_det, f)\n",
    "    #profissoes\n",
    "    config_prof = Config(\n",
    "        endpoint=f\"deputados/{parl_id}/profissoes\",\n",
    "        file_name=parl_id\n",
    "    )\n",
    "    data_prof = get_data(config_prof.url)\n",
    "    with open(f'{folder_profissoes}/{config_prof.file_name}.json', 'w') as f:\n",
    "        json.dump(data_prof, f)\n",
    "    #ocupacoes\n",
    "    config_ocup = Config(\n",
    "        endpoint=f\"deputados/{parl_id}/ocupacoes\",\n",
    "        file_name=parl_id\n",
    "    )\n",
    "    data_ocup = get_data(config_ocup.url)\n",
    "    with open(f'{folder_ocupacoes}/{config_ocup.file_name}.json', 'w') as f:\n",
    "        json.dump(data_ocup, f)"
   ]
  },
  {
   "attachments": {},
   "cell_type": "markdown",
   "metadata": {},
   "source": [
    "# Votacoes\n",
    "\n",
    "Por conta do erro 502 quando realizando a paginação, o algoritmo deve coletar os dados de votações dia a dia, pois assim não ele não ocorre"
   ]
  },
  {
   "cell_type": "code",
   "execution_count": 2,
   "metadata": {},
   "outputs": [],
   "source": [
    "import datetime\n",
    "from core.utils import infinite_date_generator"
   ]
  },
  {
   "cell_type": "code",
   "execution_count": 4,
   "metadata": {},
   "outputs": [
    {
     "name": "stderr",
     "output_type": "stream",
     "text": [
      "  0%|          | 0/1460 [00:00<?, ?it/s]\n"
     ]
    }
   ],
   "source": [
    "date_init = datetime.date(2019, 1, 1)\n",
    "date_end = datetime.date(2022, 12, 31)\n",
    "total_days = (date_end - date_init).days\n",
    "pbar = tqdm(range(0, total_days))\n",
    "\n",
    "data_ok = [file.split('.')[0] for file in os.listdir('./data/votacoes')]\n",
    "for date in infinite_date_generator(date_init):\n",
    "    if date == date_end:\n",
    "        break\n",
    "    date_str = date.strftime('%Y-%m-%d')\n",
    "    config = Config(endpoint='votacoes',\n",
    "                    file_name=f'votacoes_{date_str}',\n",
    "                    parameters={'dataInicio': f'{date_str}', 'dataFim': f'{date_str}'})\n",
    "    if config.file_name in data_ok:\n",
    "        continue\n",
    "    data = get_data(config.url)\n",
    "    with open(f'./data/votacoes/{config.file_name}.json', 'w') as f:\n",
    "        json.dump(data, f)\n",
    "    pbar.update(1)\n",
    "pbar.close()"
   ]
  },
  {
   "attachments": {},
   "cell_type": "markdown",
   "metadata": {},
   "source": [
    "# Votos"
   ]
  },
  {
   "cell_type": "code",
   "execution_count": 5,
   "metadata": {},
   "outputs": [
    {
     "name": "stderr",
     "output_type": "stream",
     "text": [
      " 43%|████▎     | 7048/16516 [35:42<46:22,  3.40it/s]  "
     ]
    },
    {
     "name": "stdout",
     "output_type": "stream",
     "text": [
      "ERRO 502, sleeping for 5 minutes\n"
     ]
    },
    {
     "name": "stderr",
     "output_type": "stream",
     "text": [
      " 49%|████▉     | 8099/16516 [46:00<1:18:50,  1.78it/s]  "
     ]
    },
    {
     "name": "stdout",
     "output_type": "stream",
     "text": [
      "ERRO 502, sleeping for 5 minutes\n"
     ]
    },
    {
     "name": "stderr",
     "output_type": "stream",
     "text": [
      "100%|██████████| 16516/16516 [1:32:56<00:00,  2.96it/s]  \n"
     ]
    }
   ],
   "source": [
    "folder = './data/votos'\n",
    "\n",
    "data_ok = [file.split('.')[0] for file in os.listdir(folder)]\n",
    "\n",
    "votacoes = os.listdir('./data/votacoes')\n",
    "votacoes = [file for file in votacoes if '2019' in file or '2020' in file or '2021' in file or '2022' in file]\n",
    "\n",
    "configs = []\n",
    "for votacao in votacoes:\n",
    "    with open('./data/votacoes/' + votacao, 'r') as f:\n",
    "        data = json.load(f)\n",
    "    configs += [Config(endpoint=f\"votacoes/{vot['id']}/votos\", file_name=vot['id'])\n",
    "                for vot in data if vot['id'] not in data_ok]\n",
    "\n",
    "for config in tqdm(configs):\n",
    "    if config.file_name in data_ok:\n",
    "        continue\n",
    "    data = get_data(config.url)\n",
    "    with open(f'{folder}/{config.file_name}.json', 'w') as f:\n",
    "        json.dump(data, f)\n"
   ]
  },
  {
   "attachments": {},
   "cell_type": "markdown",
   "metadata": {},
   "source": [
    "# Orientações"
   ]
  },
  {
   "cell_type": "code",
   "execution_count": 10,
   "metadata": {},
   "outputs": [
    {
     "name": "stderr",
     "output_type": "stream",
     "text": [
      "100%|██████████| 3111/3111 [36:35<00:00,  1.42it/s]  \n"
     ]
    }
   ],
   "source": [
    "folder = './data/orientacoes'\n",
    "data_ok = [file.split('.')[0] for file in os.listdir(folder)]\n",
    "\n",
    "votacoes = os.listdir('./data/votacoes')\n",
    "votacoes = [file for file in votacoes if '2019' in file or '2020' in file or '2021' in file or '2022' in file]\n",
    "\n",
    "configs = []\n",
    "for votacao in votacoes:\n",
    "    with open('./data/votacoes/' + votacao, 'r') as f:\n",
    "        data = json.load(f)\n",
    "    configs += [Config(endpoint=f\"votacoes/{vot['id']}/orientacoes\",\n",
    "                       file_name=vot['id']) for vot in data if vot['id'] not in data_ok]\n",
    "\n",
    "for config in tqdm(configs):\n",
    "    if config.file_name in data_ok:\n",
    "        continue\n",
    "    data = get_data(config.url)\n",
    "    with open(f'{folder}/{config.file_name}.json', 'w') as f:\n",
    "        json.dump(data, f)\n"
   ]
  }
 ],
 "metadata": {
  "kernelspec": {
   "display_name": "Python 3",
   "language": "python",
   "name": "python3"
  },
  "language_info": {
   "codemirror_mode": {
    "name": "ipython",
    "version": 3
   },
   "file_extension": ".py",
   "mimetype": "text/x-python",
   "name": "python",
   "nbconvert_exporter": "python",
   "pygments_lexer": "ipython3",
   "version": "3.10.12"
  },
  "orig_nbformat": 4
 },
 "nbformat": 4,
 "nbformat_minor": 2
}
