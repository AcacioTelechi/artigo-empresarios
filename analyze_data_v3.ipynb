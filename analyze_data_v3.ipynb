{
 "cells": [
  {
   "cell_type": "code",
   "execution_count": 26,
   "metadata": {},
   "outputs": [],
   "source": [
    "import pandas as pd\n",
    "import requests\n",
    "from time import sleep\n",
    "from tqdm import tqdm\n",
    "from datetime import datetime\n",
    "from core.config import Config, get_data\n",
    "from core.proposicao import Proposicao, ArvoreApensados, Node, ProposicaoAutor, ProposicaoDetalhes\n",
    "from core.votacao import Votacao, Voto\n",
    "import matplotlib.pyplot as plt"
   ]
  },
  {
   "cell_type": "code",
   "execution_count": 3,
   "metadata": {},
   "outputs": [],
   "source": [
    "def request( url) -> list[dict]:\n",
    "    arqv = []\n",
    "    flag = True\n",
    "    while flag:\n",
    "        try:\n",
    "            response = requests.get(url)\n",
    "        except TimeoutError:\n",
    "            print(\"Timeout: sleeping for 60 secs\")\n",
    "            sleep(60)\n",
    "            continue\n",
    "        except requests.exceptions.ConnectTimeout:\n",
    "            print(\"Timeout: sleeping for 60 secs\")\n",
    "            sleep(60)\n",
    "            continue\n",
    "        except requests.exceptions.Timeout:\n",
    "            print(\"Timeout: sleeping for 60 secs\")\n",
    "            sleep(60)\n",
    "            continue\n",
    "        except requests.exceptions.ConnectionError:\n",
    "            print(\"ConnectionError: sleeping for 60 secs\")\n",
    "            sleep(60)\n",
    "            continue\n",
    "        if response.status_code == 200:\n",
    "            resp = response.json()\n",
    "            if isinstance(resp[\"dados\"], list):\n",
    "                arqv += resp[\"dados\"]\n",
    "            else:\n",
    "                arqv.append(resp[\"dados\"])\n",
    "            rels = [link[\"rel\"] for link in resp[\"links\"]]\n",
    "            if \"next\" in rels:\n",
    "                url = resp[\"links\"][rels.index(\"next\")][\"href\"]\n",
    "            else:\n",
    "                flag = False\n",
    "        else:\n",
    "            raise ConnectionError(response.status_code)\n",
    "    return arqv\n",
    "\n",
    "def get_arvore_apensados( list_props: list[Proposicao]) -> ArvoreApensados:\n",
    "    def find_related_projs(prop: Proposicao):\n",
    "        config = Config(endpoint=f'proposicoes/{prop.id_prop}/relacionadas')\n",
    "        resp = get_data(config.url)\n",
    "\n",
    "        proposicoes_relacionadas = []\n",
    "        for item in resp:\n",
    "            url_detalhes = item['uri']\n",
    "            detalhes = request(url_detalhes)[0]\n",
    "            proposicoes_relacionadas.append(\n",
    "                Proposicao(\n",
    "                    id_prop=str(detalhes['id']),\n",
    "                    sigla_tipo=detalhes['siglaTipo'],\n",
    "                    ano=detalhes['ano'],\n",
    "                    ementa=detalhes['ementa'],\n",
    "                    numero=detalhes['numero'],\n",
    "                    is_prl=detalhes['siglaTipo'] == 'PRL',\n",
    "                    praca='cd',\n",
    "                    data_apresentacao=datetime.strptime(\n",
    "                        detalhes['dataApresentacao'], \"%Y-%m-%dT%H:%M\")\n",
    "                )\n",
    "            )\n",
    "\n",
    "        return proposicoes_relacionadas\n",
    "\n",
    "    # percorrer árvore de apensados\n",
    "    def montar_arvore(props_ref: list[Proposicao], p_bar: tqdm):\n",
    "        final = []\n",
    "        for prop in props_ref:\n",
    "            resp = find_related_projs(prop)\n",
    "            node = Node(prop, resp)\n",
    "            if len(resp) > 0:\n",
    "                p_bar.total += len(resp)\n",
    "                p_bar.refresh()\n",
    "                children = montar_arvore(resp, p_bar)\n",
    "                node.children = children\n",
    "            p_bar.update(1)\n",
    "            final.append(node)\n",
    "        return final\n",
    "\n",
    "    pbar = tqdm(list_props, desc='Árvore de Apensados')\n",
    "    arvore = montar_arvore(list_props, pbar)\n",
    "    pbar.close()\n",
    "    return ArvoreApensados(arvore)\n",
    "\n",
    "def find_projects_by_name(proposicoes: list[Proposicao]) -> list[Proposicao]:\n",
    "    \"Find projects by name.\"\n",
    "    # encontrar ids dos projetos\n",
    "    for proposicao in proposicoes:\n",
    "        sigla_tipo = proposicao.sigla_tipo\n",
    "        numero = proposicao.numero\n",
    "        ano = proposicao.ano\n",
    "        config = Config(endpoint='proposicoes', parameters={'siglaTipo': sigla_tipo, 'numero': numero, 'ano': ano})\n",
    "        data = get_data(config.url)\n",
    "        if len(data) > 0:\n",
    "            proposicao.id_prop = str(data[0][\"id\"])\n",
    "        else:\n",
    "            print(f\"{sigla_tipo} {numero}/{ano} não encontrado\\n URL: {config.url}\")\n",
    "    return proposicoes\n",
    "\n",
    "def get_autores(list_projs: list[Proposicao]) -> list[ProposicaoAutor]:\n",
    "    # pegar autores\n",
    "    autores_relacionadas = []\n",
    "    for proj in tqdm(list_projs, desc=\"Autores\"):\n",
    "        config = Config(endpoint=f\"proposicoes/{proj.id_prop}/autores\")\n",
    "        autores = get_data(config.url)\n",
    "        resp = []\n",
    "        for autor in autores:\n",
    "            autor_obj = ProposicaoAutor(\n",
    "                id_prop=str(proj.id_prop),\n",
    "                id_autor=autor[\"uri\"].split(\"/\")[-1],\n",
    "                tipo_autor=autor[\"tipo\"],\n",
    "                ordem_assinatura=autor[\"ordemAssinatura\"],\n",
    "                proponente=autor[\"proponente\"] == 1,\n",
    "                praca='cd'\n",
    "            )\n",
    "            resp.append(autor_obj)\n",
    "        autores_relacionadas += resp\n",
    "    return autores_relacionadas\n",
    "\n",
    "def fetch_proposicoes_detalhes(proposicoes: list[Proposicao]) -> list[ProposicaoDetalhes]:\n",
    "    objs = []\n",
    "\n",
    "    for proposicao in tqdm(proposicoes, desc=\"Baixando Proposições\"):\n",
    "        config = Config(endpoint=f'proposicoes/{proposicao.id_prop}')\n",
    "        resp = get_data(config.url)[0]\n",
    "        obj = ProposicaoDetalhes(\n",
    "            id_prop = str(resp[\"id\"]),\n",
    "            sigla_tipo = resp[\"siglaTipo\"],\n",
    "            numero = resp[\"numero\"],\n",
    "            ano = resp[\"ano\"],\n",
    "            is_prl = True if resp[\"siglaTipo\"]==\"PRL\" else False, \n",
    "            praca = \"cd\",\n",
    "            data_apresentacao = resp[\"dataApresentacao\"],\n",
    "            ementa = resp[\"ementa\"],\n",
    "            cod_tipo = resp[\"codTipo\"],\n",
    "            tipo_descr = resp[\"descricaoTipo\"],\n",
    "            ementa_detalhada = resp[\"ementaDetalhada\"],\n",
    "            keywords = resp[\"keywords\"],\n",
    "            url_inteiro_teor = resp[\"urlInteiroTeor\"],\n",
    "            uri = resp[\"uri\"],\n",
    "            texto = resp[\"texto\"],\n",
    "            justificativa = resp[\"justificativa\"],\n",
    "            status_data = resp[\"statusProposicao\"][\"dataHora\"],\n",
    "            status_sequencia = resp[\"statusProposicao\"][\"sequencia\"],\n",
    "            status_sigla_orgao = resp[\"statusProposicao\"][\"siglaOrgao\"],\n",
    "            status_regime = resp[\"statusProposicao\"][\"regime\"],\n",
    "            status_descr_situacao = resp[\"statusProposicao\"][\"descricaoSituacao\"],\n",
    "            status_cod_tipo_situacao = resp[\"statusProposicao\"][\"codTipoTramitacao\"],\n",
    "            status_cod_situacao = resp[\"statusProposicao\"][\"codSituacao\"],\n",
    "            status_despacho = resp[\"statusProposicao\"][\"despacho\"],\n",
    "            url = resp[\"statusProposicao\"][\"url\"],\n",
    "            status_ambito = resp[\"statusProposicao\"][\"ambito\"],\n",
    "            status_apreciacao = resp[\"statusProposicao\"][\"apreciacao\"],\n",
    "            is_tramit = None,\n",
    "            status_id_org = resp[\"statusProposicao\"]['uriOrgao'].split('/')[-1]\n",
    "        )\n",
    "\n",
    "        objs.append(obj)\n",
    "    \n",
    "    return objs"
   ]
  },
  {
   "cell_type": "code",
   "execution_count": 5,
   "metadata": {},
   "outputs": [],
   "source": [
    "projs = pd.read_excel(r'./data/projetos_selecionados.xlsx')"
   ]
  },
  {
   "cell_type": "code",
   "execution_count": 6,
   "metadata": {},
   "outputs": [
    {
     "data": {
      "text/html": [
       "<div>\n",
       "<style scoped>\n",
       "    .dataframe tbody tr th:only-of-type {\n",
       "        vertical-align: middle;\n",
       "    }\n",
       "\n",
       "    .dataframe tbody tr th {\n",
       "        vertical-align: top;\n",
       "    }\n",
       "\n",
       "    .dataframe thead th {\n",
       "        text-align: right;\n",
       "    }\n",
       "</style>\n",
       "<table border=\"1\" class=\"dataframe\">\n",
       "  <thead>\n",
       "    <tr style=\"text-align: right;\">\n",
       "      <th></th>\n",
       "      <th>tipo</th>\n",
       "      <th>código</th>\n",
       "      <th>ano</th>\n",
       "      <th>tema</th>\n",
       "      <th>ementa</th>\n",
       "      <th>orientação</th>\n",
       "    </tr>\n",
       "  </thead>\n",
       "  <tbody>\n",
       "    <tr>\n",
       "      <th>0</th>\n",
       "      <td>PEC</td>\n",
       "      <td>6</td>\n",
       "      <td>2019</td>\n",
       "      <td>reforma da previdência</td>\n",
       "      <td>Modifica o sistema de previdência social, esta...</td>\n",
       "      <td>1</td>\n",
       "    </tr>\n",
       "    <tr>\n",
       "      <th>1</th>\n",
       "      <td>PL</td>\n",
       "      <td>3418</td>\n",
       "      <td>2021</td>\n",
       "      <td>fundebe</td>\n",
       "      <td>Altera a Lei nº 14.113, de 25 de dezembro de 2...</td>\n",
       "      <td>1</td>\n",
       "    </tr>\n",
       "    <tr>\n",
       "      <th>2</th>\n",
       "      <td>PL</td>\n",
       "      <td>5829</td>\n",
       "      <td>2019</td>\n",
       "      <td>energia renovável</td>\n",
       "      <td>NOVA EMENTA: Institui o marco legal da microge...</td>\n",
       "      <td>1</td>\n",
       "    </tr>\n",
       "    <tr>\n",
       "      <th>3</th>\n",
       "      <td>PL</td>\n",
       "      <td>3179</td>\n",
       "      <td>2012</td>\n",
       "      <td>homeschooling</td>\n",
       "      <td>Altera as Leis nºs 9.394, de 20 de dezembro de...</td>\n",
       "      <td>1</td>\n",
       "    </tr>\n",
       "  </tbody>\n",
       "</table>\n",
       "</div>"
      ],
      "text/plain": [
       "  tipo  código  ano                    tema   \\\n",
       "0  PEC       6  2019  reforma da previdência   \n",
       "1   PL    3418  2021                 fundebe   \n",
       "2   PL    5829  2019       energia renovável   \n",
       "3   PL    3179  2012           homeschooling   \n",
       "\n",
       "                                              ementa  orientação  \n",
       "0  Modifica o sistema de previdência social, esta...           1  \n",
       "1  Altera a Lei nº 14.113, de 25 de dezembro de 2...           1  \n",
       "2  NOVA EMENTA: Institui o marco legal da microge...           1  \n",
       "3  Altera as Leis nºs 9.394, de 20 de dezembro de...           1  "
      ]
     },
     "execution_count": 6,
     "metadata": {},
     "output_type": "execute_result"
    }
   ],
   "source": [
    "projs"
   ]
  },
  {
   "attachments": {},
   "cell_type": "markdown",
   "metadata": {},
   "source": [
    "# Dados"
   ]
  },
  {
   "cell_type": "code",
   "execution_count": 7,
   "metadata": {},
   "outputs": [],
   "source": [
    "df_dim_prof = pd.read_excel('./data/dim_profissoes_ficha.xlsx')\n",
    "df_parls_profs = pd.read_csv('./data/fat_profissoes_2019-2023.csv')\n",
    "df_profs_d = df_parls_profs[['id_parl', 'codTipoProfissao', 'titulo']].merge(df_dim_prof[['codTipoProfissao', 'is_empresario']], on='codTipoProfissao')\n",
    "df_profs_d = df_profs_d.join(pd.get_dummies(df_profs_d['codTipoProfissao'])).groupby('id_parl').max(numeric_only=True).reset_index()\n",
    "\n",
    "df_profs_d['id_parl'] = [str(id_parl) for id_parl in df_profs_d['id_parl']]"
   ]
  },
  {
   "attachments": {},
   "cell_type": "markdown",
   "metadata": {},
   "source": [
    "# calcular ativismos por tema"
   ]
  },
  {
   "cell_type": "code",
   "execution_count": null,
   "metadata": {},
   "outputs": [],
   "source": [
    "for idx in projs.index:\n",
    "    prop = Proposicao(\n",
    "        sigla_tipo = projs.loc[idx, 'tipo'],\n",
    "        numero = projs.loc[idx, 'código'],\n",
    "        ano = projs.loc[idx, 'ano '],\n",
    "    )\n",
    "\n",
    "    resp = find_projects_by_name([prop])\n",
    "\n",
    "    arvore = get_arvore_apensados(resp)\n",
    "\n",
    "    autores = get_autores(arvore.nodes)\n",
    "\n",
    "    props_detalhes = fetch_proposicoes_detalhes(arvore.nodes)\n",
    "\n",
    "    df_props = pd.DataFrame(props_detalhes)\n",
    "    df_autores = pd.DataFrame(autores)\n",
    "\n",
    "    df_merge = df_autores.merge(df_props, on='id_prop', how='left').merge(df_profs_d, left_on='id_autor', right_on='id_parl', how='left')\n",
    "\n",
    "    df_group = df_merge.groupby('id_autor').agg({'is_empresario': 'max', 'id_prop': 'count'})\n",
    "\n",
    "    df_plot = pd.DataFrame()\n",
    "    df_plot['Não Empresários'] = [g for g in df_group[df_group['is_empresario'] == 0]['id_prop']]\n",
    "    df_ne =pd.DataFrame({'Empresários': [g for g in df_group[df_group['is_empresario'] == 1]['id_prop']]})\n",
    "\n",
    "    df_plot=pd.concat([df_plot, df_ne], ignore_index=False, axis=1)\n",
    "\n",
    "    print(projs.loc[idx, 'tema '])\n",
    "    display(df_plot.agg(['min', 'max', 'mean', 'std', 'count']).round(decimals=2))\n",
    "\n",
    "    fig, ax = plt.subplots()\n",
    "    df_plot.plot.hist(ax=ax, alpha=0.8, bins=5)\n",
    "    ax.set_ylabel('Freq.')\n",
    "    ax.grid(axis='y')"
   ]
  },
  {
   "cell_type": "code",
   "execution_count": 12,
   "metadata": {},
   "outputs": [],
   "source": [
    "def get_votacoes(list_props: list[Proposicao]) -> list[Votacao]:\n",
    "    \"\"\"get votacoes por proposicao\"\"\"\n",
    "    votacoes = []\n",
    "    id_proposicoes_com_votacoes = []\n",
    "    for prop in tqdm(list_props, desc=\"Votacoes\"):\n",
    "        url = f\"https://dadosabertos.camara.leg.br/api/v2/proposicoes/{prop.id_prop}/votacoes?ordem=DESC&ordenarPor=dataHoraRegistro\"\n",
    "        resp = request(url)\n",
    "        if len(resp) == 0:\n",
    "            continue\n",
    "        id_proposicoes_com_votacoes.append(prop.id_prop)\n",
    "        for vot in resp:\n",
    "            votacoes.append(\n",
    "                Votacao(\n",
    "                    praca=\"cd\",\n",
    "                    id_votacao=vot[\"id\"],\n",
    "                    id_prop=prop.id_prop,\n",
    "                    data_hora_registro=vot[\"dataHoraRegistro\"],\n",
    "                    sigla_orgao=vot[\"siglaOrgao\"],\n",
    "                    descricao=vot[\"descricao\"],\n",
    "                    aprovacao=vot[\"aprovacao\"] == 1,\n",
    "                )\n",
    "            )\n",
    "    # get detalhes das votações\n",
    "    for votacao in tqdm(votacoes, desc=\"Detalhes Votações\"):\n",
    "        url = f\"https://dadosabertos.camara.leg.br/api/v2/votacoes/{votacao.id_votacao}\"\n",
    "        resp = request(url)[0]\n",
    "        votacao.uriProposicaoCitada = resp[\n",
    "            \"ultimaApresentacaoProposicao\"\n",
    "        ][\"uriProposicaoCitada\"]\n",
    "        votacao.ultimaApresentacaoProposicaoDescricao = resp[\n",
    "            \"ultimaApresentacaoProposicao\"\n",
    "        ][\"descricao\"]\n",
    "    print(\n",
    "        f\"{len(votacoes)} votações em {len(id_proposicoes_com_votacoes)} proposições.\"\n",
    "    )\n",
    "    return votacoes"
   ]
  },
  {
   "cell_type": "code",
   "execution_count": 17,
   "metadata": {},
   "outputs": [
    {
     "name": "stderr",
     "output_type": "stream",
     "text": [
      "Votacoes: 100%|██████████| 553/553 [07:21<00:00,  1.25it/s]\n"
     ]
    }
   ],
   "source": [
    "votacoes = []\n",
    "id_proposicoes_com_votacoes = []\n",
    "for prop in tqdm(arvore.nodes, desc=\"Votações\"):\n",
    "    url = f\"https://dadosabertos.camara.leg.br/api/v2/proposicoes/{prop.id_prop}/votacoes?ordem=DESC&ordenarPor=dataHoraRegistro\"\n",
    "    resp = request(url)\n",
    "    if len(resp) == 0:\n",
    "        continue\n",
    "    id_proposicoes_com_votacoes.append(prop.id_prop)\n",
    "    for vot in resp:\n",
    "        votacoes.append(\n",
    "            Votacao(\n",
    "                praca=\"cd\",\n",
    "                id_votacao=vot[\"id\"],\n",
    "                id_prop=prop.id_prop,\n",
    "                data_hora_registro=vot[\"dataHoraRegistro\"],\n",
    "                sigla_orgao=vot[\"siglaOrgao\"],\n",
    "                descricao=vot[\"descricao\"],\n",
    "                aprovacao=vot[\"aprovacao\"] == 1,\n",
    "            )\n",
    "        )"
   ]
  },
  {
   "cell_type": "code",
   "execution_count": 22,
   "metadata": {},
   "outputs": [
    {
     "data": {
      "text/plain": [
       "'https://dadosabertos.camara.leg.br/api/v2/votacoes/{votacao.id_votacao}'"
      ]
     },
     "execution_count": 22,
     "metadata": {},
     "output_type": "execute_result"
    }
   ],
   "source": [
    "def get_votos(votacoes: [Votacao]):\n",
    "    id_votacoes_com_votos = []\n",
    "    votos = []\n",
    "    for votacao in votacoes:\n",
    "        url = f\"https://dadosabertos.camara.leg.br/api/v2/votacoes/{votacao.id_votacao}/votos\"\n",
    "        resp = request(url)\n",
    "        if len(resp) == 0:\n",
    "            continue\n",
    "        for vot in resp:\n",
    "            votos.append(\n",
    "                Voto(\n",
    "                    praca=\"cd\",\n",
    "                    voto=vot[\"tipoVoto\"],\n",
    "                    id_parl=str(vot[\"deputado_\"][\"id\"]),\n",
    "                    sigla_partido=vot[\"deputado_\"][\"siglaPartido\"],\n",
    "                    id_votacao=votacao.id_votacao,\n",
    "                )\n",
    "            )\n",
    "        id_votacoes_com_votos.append(votacao.id_votacao)\n",
    "    print(f\"{len(votos)} votos em {len(id_votacoes_com_votos)} votações.\")\n",
    "    return votos"
   ]
  },
  {
   "cell_type": "code",
   "execution_count": 25,
   "metadata": {},
   "outputs": [
    {
     "name": "stderr",
     "output_type": "stream",
     "text": [
      "Detalhes Votações: 100%|██████████| 383/383 [01:54<00:00,  3.35it/s]"
     ]
    },
    {
     "name": "stdout",
     "output_type": "stream",
     "text": [
      "383 votações em 156 proposições.\n"
     ]
    },
    {
     "name": "stderr",
     "output_type": "stream",
     "text": [
      "\n"
     ]
    }
   ],
   "source": [
    "for votacao in tqdm(votacoes, desc=\"Detalhes Votações\"):\n",
    "    url = f\"https://dadosabertos.camara.leg.br/api/v2/votacoes/{votacao.id_votacao}\"\n",
    "    resp = request(url)[0]\n",
    "    votacao.uriProposicaoCitada = resp[\n",
    "        \"ultimaApresentacaoProposicao\"\n",
    "    ][\"uriProposicaoCitada\"]\n",
    "    votacao.ultimaApresentacaoProposicaoDescricao = resp[\n",
    "        \"ultimaApresentacaoProposicao\"\n",
    "    ][\"descricao\"]\n",
    "print(\n",
    "    f\"{len(votacoes)} votações em {len(id_proposicoes_com_votacoes)} proposições.\"\n",
    ")"
   ]
  },
  {
   "cell_type": "code",
   "execution_count": 32,
   "metadata": {},
   "outputs": [
    {
     "name": "stderr",
     "output_type": "stream",
     "text": [
      "Votacoes analisadas: 100%|██████████| 383/383 [02:05<00:00,  3.05it/s]"
     ]
    },
    {
     "name": "stdout",
     "output_type": "stream",
     "text": [
      "19509 votos em 46 votações.\n"
     ]
    },
    {
     "name": "stderr",
     "output_type": "stream",
     "text": [
      "\n"
     ]
    }
   ],
   "source": [
    "id_votacoes_com_votos = []\n",
    "votos = []\n",
    "for votacao in tqdm(votacoes, \"Votacoes analisadas\"):\n",
    "    url = f\"https://dadosabertos.camara.leg.br/api/v2/votacoes/{votacao.id_votacao}/votos\"\n",
    "    resp = request(url)\n",
    "    if len(resp) == 0:\n",
    "        continue\n",
    "    for vot in resp:\n",
    "        votos.append(\n",
    "            Voto(\n",
    "                praca=\"cd\",\n",
    "                voto=vot[\"tipoVoto\"],\n",
    "                id_parl=str(vot[\"deputado_\"][\"id\"]),\n",
    "                sigla_partido=vot[\"deputado_\"][\"siglaPartido\"],\n",
    "                id_votacao=votacao.id_votacao,\n",
    "            )\n",
    "        )\n",
    "    id_votacoes_com_votos.append(votacao.id_votacao)\n",
    "print(f\"{len(votos)} votos em {len(id_votacoes_com_votos)} votações.\")"
   ]
  },
  {
   "cell_type": "code",
   "execution_count": 37,
   "metadata": {},
   "outputs": [
    {
     "name": "stderr",
     "output_type": "stream",
     "text": [
      "Autores:  14%|█▍        | 78/553 [00:22<06:46,  1.17it/s]"
     ]
    }
   ],
   "source": [
    "autores = get_autores(arvore.nodes)"
   ]
  },
  {
   "cell_type": "code",
   "execution_count": null,
   "metadata": {},
   "outputs": [],
   "source": [
    "props_detalhes = fetch_proposicoes_detalhes(arvore.nodes)"
   ]
  },
  {
   "cell_type": "code",
   "execution_count": 35,
   "metadata": {},
   "outputs": [
    {
     "ename": "NameError",
     "evalue": "name 'autores' is not defined",
     "output_type": "error",
     "traceback": [
      "\u001b[0;31m---------------------------------------------------------------------------\u001b[0m",
      "\u001b[0;31mNameError\u001b[0m                                 Traceback (most recent call last)",
      "Cell \u001b[0;32mIn[35], line 2\u001b[0m\n\u001b[1;32m      1\u001b[0m df_props \u001b[39m=\u001b[39m pd\u001b[39m.\u001b[39mDataFrame(arvore\u001b[39m.\u001b[39mnodes)\n\u001b[0;32m----> 2\u001b[0m df_autores \u001b[39m=\u001b[39m pd\u001b[39m.\u001b[39mDataFrame(autores)\n",
      "\u001b[0;31mNameError\u001b[0m: name 'autores' is not defined"
     ]
    }
   ],
   "source": [
    "df_props = pd.DataFrame(props_detalhes)\n",
    "df_autores = pd.DataFrame(autores)\n"
   ]
  },
  {
   "attachments": {},
   "cell_type": "markdown",
   "metadata": {},
   "source": [
    "# PLOT"
   ]
  }
 ],
 "metadata": {
  "kernelspec": {
   "display_name": "Python 3",
   "language": "python",
   "name": "python3"
  },
  "language_info": {
   "codemirror_mode": {
    "name": "ipython",
    "version": 3
   },
   "file_extension": ".py",
   "mimetype": "text/x-python",
   "name": "python",
   "nbconvert_exporter": "python",
   "pygments_lexer": "ipython3",
   "version": "3.10.12"
  },
  "orig_nbformat": 4
 },
 "nbformat": 4,
 "nbformat_minor": 2
}
