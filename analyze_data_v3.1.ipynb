{
 "cells": [
  {
   "cell_type": "code",
   "execution_count": null,
   "metadata": {
    "vscode": {
     "languageId": "r"
    }
   },
   "outputs": [],
   "source": [
    "library(dplyr)\n",
    "library(MatchIt)\n",
    "library(lmtest)\n",
    "library(sandwich)\n",
    "library(marginaleffects)\n",
    "library(wnominate)\n",
    "library(ggplot2)\n",
    "library(gridExtra)"
   ]
  },
  {
   "cell_type": "markdown",
   "metadata": {},
   "source": [
    "DATA\n",
    "\n",
    "Inicialmente, pegamos todos os arquivos que foram tratados via Python, utilizando os valores dados na aba abaixo."
   ]
  },
  {
   "cell_type": "code",
   "execution_count": 42,
   "metadata": {
    "vscode": {
     "languageId": "r"
    }
   },
   "outputs": [],
   "source": [
    "get_tema_data <- function(TEMA) {\n",
    "  output_folder <- './output/treated/'\n",
    "  df_votos_file <- paste('df_votos', tolower(TEMA), sep='_')\n",
    "  matched_data_file <- paste('df_matched_data', tolower(TEMA), sep='_')\n",
    "  \n",
    "  df_parls <- read.csv(paste(output_folder, 'df_parls', '.csv', sep=''))\n",
    "  df_votos <- read.csv(paste(output_folder, df_votos_file, '.csv', sep=''))\n",
    "  df_merge <- merge(df_parls, df_votos)\n",
    "  \n",
    "  return(df_merge)\n",
    "}"
   ]
  },
  {
   "cell_type": "code",
   "execution_count": 43,
   "metadata": {
    "vscode": {
     "languageId": "r"
    }
   },
   "outputs": [],
   "source": [
    "TEMAS <- c(\"Geral\", \"Reforma da Previdência\") # \"FUNDEB\", \"Energia Renovável\",  \"Homeschooling\""
   ]
  },
  {
   "cell_type": "code",
   "execution_count": 55,
   "metadata": {
    "vscode": {
     "languageId": "r"
    }
   },
   "outputs": [],
   "source": [
    "data_temas <- list()\n",
    "for (tema in TEMAS) {\n",
    "   data_temas[[tema]] <- get_tema_data(tema)\n",
    "}"
   ]
  },
  {
   "cell_type": "markdown",
   "metadata": {},
   "source": [
    "# WNOMINATE\n",
    "Calcular o W-Nominate.\n",
    "\n",
    "O parlamentar usado como referencia para a polaridade foi o 115746 (Gelson Azevedo - PL) por ser considerado como empresário e esteve ausente em apenas 2 votações do total considerado."
   ]
  },
  {
   "cell_type": "code",
   "execution_count": 20,
   "metadata": {
    "vscode": {
     "languageId": "r"
    }
   },
   "outputs": [],
   "source": [
    "compute_wnominate <- function(df){\n",
    "    legData <- df[,0:53]\n",
    "    votos <- df[,54:length(df_merge)]\n",
    "\n",
    "    rc <- rollcall(\n",
    "        votos, \n",
    "        yea=1, \n",
    "        nay=-1, \n",
    "        missing=0,  \n",
    "        notInLegis=NA, \n",
    "        legis.names=legData$id_parl, \n",
    "        legis.data=legData\n",
    "    )\n",
    "    result <- wnominate(\n",
    "      rc, \n",
    "      polarity = c('115746', '115746'),\n",
    "      minvotes=10\n",
    "    )\n",
    "\n",
    "    return(result$legislators)\n",
    "}\n",
    "\n",
    "generate_boxplot_plot <- function(df_wn, TEMA) {\n",
    "  boxplot_plot <- ggplot(\n",
    "    data = df_wn,\n",
    "    mapping = aes(x = coord1D, y = coord2D, color = factor(is_empresario))\n",
    "  ) + \n",
    "  geom_point(size = 3, alpha = 7/10) + \n",
    "  scale_y_continuous(limits = c(-1, 1)) + \n",
    "  scale_x_continuous(limits = c(-1, 1)) + \n",
    "  coord_fixed(ratio = 1) +\n",
    "  labs(title = TEMA) +  # Use TEMA as the plot title\n",
    "  scale_colour_manual(\n",
    "    values = c(\"0\" = \"darkblue\", \"1\" = \"orange\"),\n",
    "    breaks = c(\"0\", \"1\"),\n",
    "    labels = c(\"Não Empresário\", \"Empresário\")\n",
    "  ) +\n",
    "  theme(legend.position = \"none\")\n",
    "\n",
    "  # Add a circle of radius 1 centered at the origin\n",
    "  circle_data <- data.frame(\n",
    "    x = cos(seq(0, 2 * pi, length.out = 100)),\n",
    "    y = sin(seq(0, 2 * pi, length.out = 100))\n",
    "  )\n",
    "\n",
    "  # Add the circle using geom_polygon\n",
    "  circle_plot <- boxplot_plot +\n",
    "    geom_polygon(data = circle_data, aes(x, y), color = \"gray\", fill = NA)\n",
    "\n",
    "  return(circle_plot)\n",
    "}\n"
   ]
  },
  {
   "cell_type": "code",
   "execution_count": 56,
   "metadata": {
    "vscode": {
     "languageId": "r"
    }
   },
   "outputs": [
    {
     "name": "stdout",
     "output_type": "stream",
     "text": [
      "[1] \"Calculando W-Nominate para o tema:  Geral\"\n",
      "\n",
      "Preparing to run W-NOMINATE...\n",
      "\n",
      "\tChecking data...\n",
      "\n",
      "\t\t... 25 of 559 total members dropped.\n",
      "\n",
      "\t\tVotes dropped:\n",
      "\t\t... 4 of 61 total votes dropped.\n",
      "\n",
      "\tRunning W-NOMINATE...\n",
      "\n",
      "\t\tGetting bill parameters...\n",
      "\t\tGetting legislator coordinates...\n",
      "\t\tStarting estimation of Beta...\n",
      "\t\tGetting bill parameters...\n",
      "\t\tGetting legislator coordinates...\n",
      "\t\tStarting estimation of Beta...\n",
      "\t\tGetting bill parameters...\n",
      "\t\tGetting legislator coordinates...\n",
      "\t\tGetting bill parameters...\n",
      "\t\tGetting legislator coordinates...\n",
      "\t\tEstimating weights...\n",
      "\t\tGetting bill parameters...\n",
      "\t\tGetting legislator coordinates...\n",
      "\t\tEstimating weights...\n",
      "\t\tGetting bill parameters...\n",
      "\t\tGetting legislator coordinates...\n",
      "\n",
      "\n",
      "W-NOMINATE estimation completed successfully.\n",
      "W-NOMINATE took 7.765 seconds to execute.\n",
      "\n",
      "[1] \"Calculando W-Nominate para o tema:  Reforma da Previdência\"\n",
      "\n",
      "Preparing to run W-NOMINATE...\n",
      "\n",
      "\tChecking data...\n",
      "\n",
      "\t\t... 2 of 511 total members dropped.\n",
      "\n",
      "\t\tVotes dropped:\n",
      "\t\t... 2 of 42 total votes dropped.\n",
      "\n",
      "\tRunning W-NOMINATE...\n",
      "\n",
      "\t\tGetting bill parameters...\n",
      "\t\tGetting legislator coordinates...\n",
      "\t\tStarting estimation of Beta...\n",
      "\t\tGetting bill parameters...\n",
      "\t\tGetting legislator coordinates...\n",
      "\t\tStarting estimation of Beta...\n",
      "\t\tGetting bill parameters...\n",
      "\t\tGetting legislator coordinates...\n",
      "\t\tGetting bill parameters...\n",
      "\t\tGetting legislator coordinates...\n",
      "\t\tEstimating weights...\n",
      "\t\tGetting bill parameters...\n",
      "\t\tGetting legislator coordinates...\n",
      "\t\tEstimating weights...\n",
      "\t\tGetting bill parameters...\n",
      "\t\tGetting legislator coordinates...\n",
      "\n",
      "\n",
      "W-NOMINATE estimation completed successfully.\n",
      "W-NOMINATE took 5.535 seconds to execute.\n",
      "\n"
     ]
    }
   ],
   "source": [
    "# Initialize an empty list to store plots\n",
    "plot_list <- list()\n",
    "df_wn_list <- list()\n",
    "\n",
    "# Loop through TEMAS and generate plots\n",
    "for (tema in TEMAS) {\n",
    "  df_merge <- data_temas[[tema]]\n",
    "\n",
    "  print(paste(\"Calculando W-Nominate para o tema: \", tema))\n",
    "\n",
    "  df_wn <- compute_wnominate(df_merge)  \n",
    "  plot <- generate_boxplot_plot(df_wn, tema)\n",
    "\n",
    "  plot_list[[tema]] <- plot\n",
    "  df_wn_list[[tema]] <- df_wn\n",
    "}\n",
    "\n"
   ]
  },
  {
   "cell_type": "code",
   "execution_count": null,
   "metadata": {
    "vscode": {
     "languageId": "r"
    }
   },
   "outputs": [],
   "source": [
    "combined_plots <- do.call(grid.arrange, c(plot_list, ncol = 2))"
   ]
  },
  {
   "cell_type": "markdown",
   "metadata": {},
   "source": [
    "# Models\n",
    "\n",
    "Modelos para avaliar os efeitos de X na coord1D sem pareamento"
   ]
  },
  {
   "cell_type": "code",
   "execution_count": 28,
   "metadata": {
    "vscode": {
     "languageId": "r"
    }
   },
   "outputs": [],
   "source": [
    "X1 = c('is_empresario')\n",
    "X2 = c('is_empresario', 'governismo')\n",
    "X3 = c(\n",
    "    'is_empresario',\n",
    "    'governismo',\n",
    "    'uf_AC',\n",
    "    'uf_AL',\n",
    "    'uf_AM',\n",
    "    'uf_AP',\n",
    "    'uf_BA',\n",
    "    'uf_CE',\n",
    "    'uf_DF',\n",
    "    'uf_ES',\n",
    "    'uf_GO',\n",
    "    'uf_MA',\n",
    "    'uf_MG',\n",
    "    'uf_MS',\n",
    "    'uf_MT',\n",
    "    'uf_PA',\n",
    "    'uf_PB',\n",
    "    'uf_PE',\n",
    "    'uf_PI',\n",
    "    'uf_PR',\n",
    "    'uf_RJ',\n",
    "    'uf_RN',\n",
    "    'uf_RO',\n",
    "    'uf_RR',\n",
    "    'uf_RS',\n",
    "    'uf_SC',\n",
    "    'uf_SE',\n",
    "    'uf_TO'\n",
    ")\n",
    "X4 = c(\n",
    "    'is_empresario',\n",
    "    'governismo',\n",
    "    'uf_AC',\n",
    "    'uf_AL',\n",
    "    'uf_AM',\n",
    "    'uf_AP',\n",
    "    'uf_BA',\n",
    "    'uf_CE',\n",
    "    'uf_DF',\n",
    "    'uf_ES',\n",
    "    'uf_GO',\n",
    "    'uf_MA',\n",
    "    'uf_MG',\n",
    "    'uf_MS',\n",
    "    'uf_MT',\n",
    "    'uf_PA',\n",
    "    'uf_PB',\n",
    "    'uf_PE',\n",
    "    'uf_PI',\n",
    "    'uf_PR',\n",
    "    'uf_RJ',\n",
    "    'uf_RN',\n",
    "    'uf_RO',\n",
    "    'uf_RR',\n",
    "    'uf_RS',\n",
    "    'uf_SC',\n",
    "    'uf_SE',\n",
    "    'uf_TO',\n",
    "    'partido_AVANTE',\n",
    "    'partido_CIDADANIA',\n",
    "    'partido_MDB',\n",
    "    'partido_NOVO',\n",
    "    'partido_PATRIOTA',\n",
    "    'partido_PCdoB',\n",
    "    'partido_PDT',\n",
    "    'partido_PL',\n",
    "    'partido_PODE',\n",
    "    'partido_PP',\n",
    "    'partido_PROS',\n",
    "    'partido_PSB',\n",
    "    'partido_PSC',\n",
    "    'partido_PSD',\n",
    "    'partido_PSDB',\n",
    "    'partido_PSOL',\n",
    "    'partido_PTB',\n",
    "    'partido_PV',\n",
    "    'partido_REDE',\n",
    "    'partido_REPUBLICANOS',\n",
    "    'partido_SOLIDARIEDADE',\n",
    "    'partido_UNIÃO'\n",
    ")\n",
    "partidos <- c(\n",
    "    'partido_AVANTE',\n",
    "    'partido_CIDADANIA',\n",
    "    'partido_MDB',\n",
    "    'partido_NOVO',\n",
    "    'partido_PATRIOTA',\n",
    "    'partido_PCdoB',\n",
    "    'partido_PDT',\n",
    "    'partido_PL',\n",
    "    'partido_PODE',\n",
    "    'partido_PP',\n",
    "    'partido_PROS',\n",
    "    'partido_PSB',\n",
    "    'partido_PSC',\n",
    "    'partido_PSD',\n",
    "    'partido_PSDB',\n",
    "    'partido_PSOL',\n",
    "    'partido_PTB',\n",
    "    'partido_PV',\n",
    "    'partido_REDE',\n",
    "    'partido_REPUBLICANOS',\n",
    "    'partido_SOLIDARIEDADE',\n",
    "    'partido_UNIÃO'\n",
    ")"
   ]
  },
  {
   "cell_type": "code",
   "execution_count": 30,
   "metadata": {
    "vscode": {
     "languageId": "r"
    }
   },
   "outputs": [],
   "source": [
    "model1 <- lm(reformulate(X1, response = 'coord1D'), data=df_wn)\n",
    "model2 <- lm(reformulate(X2, response = 'coord1D'), data=df_wn)\n",
    "model3 <- lm(reformulate(X3, response = 'coord1D'), data=df_wn)\n",
    "model4 <- lm(reformulate(X4, response = 'coord1D'), data=df_wn)"
   ]
  },
  {
   "cell_type": "code",
   "execution_count": 37,
   "metadata": {
    "vscode": {
     "languageId": "r"
    }
   },
   "outputs": [
    {
     "data": {
      "text/plain": [
       "\n",
       "Call:\n",
       "lm(formula = reformulate(X1, response = \"coord1D\"), data = df_wn)\n",
       "\n",
       "Residuals:\n",
       "     Min       1Q   Median       3Q      Max \n",
       "-0.81783 -0.34602  0.04204  0.29562  1.10620 \n",
       "\n",
       "Coefficients:\n",
       "              Estimate Std. Error t value Pr(>|t|)    \n",
       "(Intercept)   -0.26731    0.02098 -12.739   <2e-16 ***\n",
       "is_empresario  0.08795    0.03664   2.401   0.0167 *  \n",
       "---\n",
       "Signif. codes:  0 ‘***’ 0.001 ‘**’ 0.01 ‘*’ 0.05 ‘.’ 0.1 ‘ ’ 1\n",
       "\n",
       "Residual standard error: 0.3881 on 507 degrees of freedom\n",
       "  (2 observations deleted due to missingness)\n",
       "Multiple R-squared:  0.01124,\tAdjusted R-squared:  0.00929 \n",
       "F-statistic: 5.763 on 1 and 507 DF,  p-value: 0.01672\n"
      ]
     },
     "metadata": {},
     "output_type": "display_data"
    }
   ],
   "source": [
    "summary(model1)"
   ]
  },
  {
   "cell_type": "markdown",
   "metadata": {},
   "source": [
    "# PSM"
   ]
  },
  {
   "cell_type": "code",
   "execution_count": 46,
   "metadata": {
    "vscode": {
     "languageId": "r"
    }
   },
   "outputs": [],
   "source": [
    "matched_objs <- list()\n",
    "\n",
    "for (tema in TEMAS) {\n",
    "   match_obj <- matchit(\n",
    "    formula = reformulate(X4[-c(1)], response = 'is_empresario'), \n",
    "    data = df_wn_list[[tema]], \n",
    "    method = \"nearest\", \n",
    "    distance = \"glm\",\n",
    "    # link = \"probit\",\n",
    "    replace = FALSE, \n",
    "    ratio = 1,\n",
    "    # exact = reformulate(partidos)\n",
    "    )\n",
    "\n",
    "    matched_objs[[tema]] <- match_obj\n",
    "}\n"
   ]
  },
  {
   "cell_type": "code",
   "execution_count": null,
   "metadata": {
    "vscode": {
     "languageId": "r"
    }
   },
   "outputs": [],
   "source": [
    "plot(match_obj, type = \"jitter\", interactive = FALSE)\n",
    "plot(summary(match_obj), abs = FALSE)\n",
    "plot(match_obj, type = \"density\", interactive = FALSE,\n",
    "     which.xs = ~governismo)"
   ]
  },
  {
   "cell_type": "markdown",
   "metadata": {},
   "source": [
    "Testar efeitos de ser empresário na coord1D com pareamento"
   ]
  },
  {
   "cell_type": "code",
   "execution_count": 53,
   "metadata": {
    "vscode": {
     "languageId": "r"
    }
   },
   "outputs": [
    {
     "name": "stdout",
     "output_type": "stream",
     "text": [
      "[1] \"Tema: Geral | Total linhas: 378\"\n",
      "\n",
      "t test of coefficients:\n",
      "\n",
      "              Estimate Std. Error t value Pr(>|t|)    \n",
      "(Intercept)       0.12       0.03       4    1e-05 ***\n",
      "is_empresario    -0.03       0.03      -1      0.3    \n",
      "---\n",
      "Signif. codes:  0 ‘***’ 0.001 ‘**’ 0.01 ‘*’ 0.05 ‘.’ 0.1 ‘ ’ 1\n",
      "\n",
      "[1] \"Tema: Reforma da Previdência | Total linhas: 336\"\n",
      "\n",
      "t test of coefficients:\n",
      "\n",
      "              Estimate Std. Error t value Pr(>|t|)    \n",
      "(Intercept)      -0.13       0.03      -5    4e-06 ***\n",
      "is_empresario    -0.05       0.04      -1      0.2    \n",
      "---\n",
      "Signif. codes:  0 ‘***’ 0.001 ‘**’ 0.01 ‘*’ 0.05 ‘.’ 0.1 ‘ ’ 1\n",
      "\n"
     ]
    }
   ],
   "source": [
    "for (tema in TEMAS) {\n",
    "    matched_data <- match.data(matched_objs[[tema]])\n",
    "\n",
    "    print(paste(\"Tema:\", tema, \"| Total linhas:\", nrow(matched_data)))\n",
    "\n",
    "    fit <- lm(coord1D ~ is_empresario, data = matched_data, weights = weights)\n",
    "\n",
    "    #Test the coefficient using cluster robust standard error\n",
    "    res_test <- coeftest(fit, vcov. = vcovCL, cluster = ~ subclass, weights = weights)\n",
    "    #Calculate the confidence intervals based on cluster robust standard error\n",
    "    res <- coefci(fit, vcov. = vcovCL, cluster = ~ subclass, level = 0.95, weights = weights)\n",
    "    print(res_test, res)\n",
    "}"
   ]
  },
  {
   "cell_type": "code",
   "execution_count": 18,
   "metadata": {
    "vscode": {
     "languageId": "r"
    }
   },
   "outputs": [],
   "source": [
    "# write.csv(matched_data, paste('./output/psm/', matched_data_file, '.csv', sep=''), )"
   ]
  },
  {
   "cell_type": "markdown",
   "metadata": {},
   "source": [
    "# Rice\n",
    "\n",
    "calcular índice rice com e sem pareamento"
   ]
  },
  {
   "cell_type": "code",
   "execution_count": 54,
   "metadata": {
    "vscode": {
     "languageId": "r"
    }
   },
   "outputs": [],
   "source": [
    "calculate_rice <- function(data_frame) {\n",
    "  # Replace NA values with 0\n",
    "  data_frame[is.na(data_frame)] <- 0\n",
    "\n",
    "  # Create logical matrices for yay and nay votes\n",
    "  yay_matrix <- data_frame == 1\n",
    "  nay_matrix <- data_frame == -1\n",
    "\n",
    "  # Calculate the sum of yays and nays for each roll call\n",
    "  sum_yays <- colSums(yay_matrix)\n",
    "  sum_nays <- colSums(nay_matrix)\n",
    "\n",
    "  # Calculate the vote ratio using the formula\n",
    "  vote_ratio <- abs(sum_yays - sum_nays) / (sum_yays + sum_nays)\n",
    "\n",
    "  # Create a new data frame with the results\n",
    "  result_data_frame <- data.frame(sum_yays, sum_nays, vote_ratio)\n",
    "\n",
    "  return(result_data_frame)\n",
    "}"
   ]
  },
  {
   "cell_type": "code",
   "execution_count": 58,
   "metadata": {
    "vscode": {
     "languageId": "r"
    }
   },
   "outputs": [
    {
     "name": "stdout",
     "output_type": "stream",
     "text": [
      "[1] \"Tema: Geral\"\n",
      "\n",
      "\tWelch Two Sample t-test\n",
      "\n",
      "data:  result_empr$vote_ratio and result_n_empr$vote_ratio\n",
      "t = 4.8487, df = 102.03, p-value = 4.462e-06\n",
      "alternative hypothesis: true difference in means is not equal to 0\n",
      "95 percent confidence interval:\n",
      " 0.1164352 0.2776415\n",
      "sample estimates:\n",
      "mean of x mean of y \n",
      "0.7220606 0.5250223 \n",
      "\n",
      "[1] \"Tema: Reforma da Previdência\"\n",
      "\n",
      "\tWelch Two Sample t-test\n",
      "\n",
      "data:  result_empr$vote_ratio and result_n_empr$vote_ratio\n",
      "t = 4.3494, df = 72.067, p-value = 4.415e-05\n",
      "alternative hypothesis: true difference in means is not equal to 0\n",
      "95 percent confidence interval:\n",
      " 0.1154497 0.3108196\n",
      "sample estimates:\n",
      "mean of x mean of y \n",
      "0.7356557 0.5225210 \n",
      "\n"
     ]
    }
   ],
   "source": [
    "\n",
    "for (tema in TEMAS) {\n",
    "    print(paste(\"Tema:\", tema))\n",
    "    df_merge <- data_temas[[tema]]\n",
    "    df_votos_empr <- filter(df_merge, is_empresario == 1)[,54:length(df_merge)]\n",
    "    df_votos_n_empr <- filter(df_merge, is_empresario == 0)[,54:length(df_merge)]\n",
    "\n",
    "    result_empr <- calculate_rice(df_votos_empr)\n",
    "    result_n_empr <- calculate_rice(df_votos_n_empr)\n",
    "\n",
    "    # Add a column to each data frame to identify the sample\n",
    "    result_empr$sample <- \"Empresário\"\n",
    "    result_n_empr$sample <- \"Não Empresário\"\n",
    "\n",
    "    # Combine the two data frames\n",
    "    combined_result <- rbind(result_empr, result_n_empr)\n",
    "\n",
    "    test <- t.test(result_empr$vote_ratio, result_n_empr$vote_ratio,\n",
    "        alternative = c(\"two.sided\", \"less\", \"greater\"),\n",
    "        mu = 0, paired = FALSE, var.equal = FALSE,\n",
    "        conf.level = 0.95)\n",
    "    \n",
    "    print(test)\n",
    "\n",
    "}"
   ]
  },
  {
   "cell_type": "markdown",
   "metadata": {},
   "source": [
    "Calcular Rice com amostra pareada"
   ]
  },
  {
   "cell_type": "code",
   "execution_count": 59,
   "metadata": {
    "vscode": {
     "languageId": "r"
    }
   },
   "outputs": [
    {
     "name": "stdout",
     "output_type": "stream",
     "text": [
      "[1] \"Tema: Geral\"\n",
      "\n",
      "\tWelch Two Sample t-test\n",
      "\n",
      "data:  result_empr_p$vote_ratio and result_n_empr_p$vote_ratio\n",
      "t = 0.0047697, df = 119.93, p-value = 0.9962\n",
      "alternative hypothesis: true difference in means is not equal to 0\n",
      "95 percent confidence interval:\n",
      " -0.06233290  0.06263395\n",
      "sample estimates:\n",
      "mean of x mean of y \n",
      "0.7214810 0.7213304 \n",
      "\n",
      "[1] \"Tema: Reforma da Previdência\"\n",
      "\n",
      "\tWelch Two Sample t-test\n",
      "\n",
      "data:  result_empr_p$vote_ratio and result_n_empr_p$vote_ratio\n",
      "t = -0.3399, df = 81.991, p-value = 0.7348\n",
      "alternative hypothesis: true difference in means is not equal to 0\n",
      "95 percent confidence interval:\n",
      " -0.09098142  0.06442780\n",
      "sample estimates:\n",
      "mean of x mean of y \n",
      "0.7356557 0.7489325 \n",
      "\n"
     ]
    }
   ],
   "source": [
    "\n",
    "\n",
    "for (tema in TEMAS) {\n",
    "    print(paste(\"Tema:\", tema))\n",
    "    df_merge <- data_temas[[tema]]\n",
    "    \n",
    "    df_votos_empr_p <- filter(df_merge, is_empresario == 1 & id_parl %in% matched_data$id_parl)[,54:length(df_merge)]\n",
    "    df_votos_n_empr_p <- filter(df_merge, is_empresario == 0 & id_parl %in% matched_data$id_parl)[,54:length(df_merge)]\n",
    "\n",
    "    # Calculate and print the result data frame\n",
    "    result_empr_p <- calculate_rice(df_votos_empr_p)\n",
    "    result_n_empr_p <- calculate_rice(df_votos_n_empr_p)\n",
    "    \n",
    "    # Add a column to each data frame to identify the sample\n",
    "    result_empr_p$sample <- \"Empresário\"\n",
    "    result_n_empr_p$sample <- \"Não Empresário\"\n",
    "\n",
    "    # Combine the two data frames\n",
    "    combined_result_p <- rbind(result_empr_p, result_n_empr_p)\n",
    "    \n",
    "    test <- t.test(result_empr_p$vote_ratio, result_n_empr_p$vote_ratio,\n",
    "      alternative = c(\"two.sided\", \"less\", \"greater\"),\n",
    "      mu = 0, paired = FALSE, var.equal = FALSE,\n",
    "      conf.level = 0.95)\n",
    "\n",
    "    print(test)\n",
    "}\n"
   ]
  },
  {
   "cell_type": "markdown",
   "metadata": {},
   "source": [
    "Plot\n"
   ]
  },
  {
   "cell_type": "code",
   "execution_count": 62,
   "metadata": {
    "vscode": {
     "languageId": "r"
    }
   },
   "outputs": [
    {
     "data": {
      "image/png": "[encoded data removed]",
      "text/plain": [
       "plot without title"
      ]
     },
     "metadata": {
      "image/png": {
       "height": 420,
       "width": 420
      }
     },
     "output_type": "display_data"
    },
    {
     "data": {
      "image/png": "[encoded data removed]",
      "text/plain": [
       "plot without title"
      ]
     },
     "metadata": {
      "image/png": {
       "height": 420,
       "width": 420
      }
     },
     "output_type": "display_data"
    }
   ],
   "source": [
    "# Create a boxplot\n",
    "boxplot(combined_result$vote_ratio ~ combined_result$sample, \n",
    "        # main = \"Boxplot do Rice\",\n",
    "        xlab = \"Sample\",\n",
    "        ylab = \"Rice\")\n",
    "\n",
    "# Create a boxplot\n",
    "boxplot(combined_result_p$vote_ratio ~ combined_result_p$sample, \n",
    "        # main = \"Boxplot do Rice\",\n",
    "        xlab = \"Sample\",\n",
    "        ylab = \"Rice\")"
   ]
  }
 ],
 "metadata": {
  "kernelspec": {
   "display_name": "R",
   "language": "R",
   "name": "ir"
  },
  "language_info": {
   "codemirror_mode": "r",
   "file_extension": ".r",
   "mimetype": "text/x-r-source",
   "name": "R",
   "pygments_lexer": "r",
   "version": "4.1.2"
  },
  "orig_nbformat": 4
 },
 "nbformat": 4,
 "nbformat_minor": 2
}
