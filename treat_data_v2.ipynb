{
 "cells": [
  {
   "cell_type": "code",
   "execution_count": 1,
   "metadata": {},
   "outputs": [],
   "source": [
    "import pandas as pd\n",
    "import json\n",
    "import os\n",
    "from tqdm import tqdm"
   ]
  },
  {
   "attachments": {},
   "cell_type": "markdown",
   "metadata": {},
   "source": [
    "# Parlamentares"
   ]
  },
  {
   "cell_type": "code",
   "execution_count": 9,
   "metadata": {},
   "outputs": [
    {
     "name": "stderr",
     "output_type": "stream",
     "text": [
      "100%|██████████| 3093/3093 [00:00<00:00, 6622.94it/s]\n"
     ]
    }
   ],
   "source": [
    "files = os.listdir('./data/parlamentares_detalhes/')\n",
    "\n",
    "data = []\n",
    "for file in tqdm(files):\n",
    "    with open(f\"./data/parlamentares_detalhes/{file}\", 'r') as f:\n",
    "        parl = json.load(f)\n",
    "    try:\n",
    "        d = [{**d, **d['ultimoStatus']} for d in parl]\n",
    "    except KeyError:\n",
    "        continue\n",
    "    try:\n",
    "        d[0].pop('ultimoStatus')\n",
    "    except IndexError:\n",
    "        continue\n",
    "    data += d\n",
    "\n",
    "df_parls = pd.DataFrame(data)"
   ]
  },
  {
   "cell_type": "code",
   "execution_count": 10,
   "metadata": {},
   "outputs": [],
   "source": [
    "df_parls.to_csv('./data/dim_parlamentares.csv')"
   ]
  },
  {
   "attachments": {},
   "cell_type": "markdown",
   "metadata": {},
   "source": [
    "# Votos"
   ]
  },
  {
   "cell_type": "code",
   "execution_count": 11,
   "metadata": {},
   "outputs": [
    {
     "name": "stdout",
     "output_type": "stream",
     "text": [
      "Carregando votações...\n"
     ]
    },
    {
     "name": "stderr",
     "output_type": "stream",
     "text": [
      "100%|██████████| 1461/1461 [00:00<00:00, 12720.22it/s]"
     ]
    },
    {
     "name": "stdout",
     "output_type": "stream",
     "text": [
      "Total de votações: 25789\n",
      "Carregando votos...\n"
     ]
    },
    {
     "name": "stderr",
     "output_type": "stream",
     "text": [
      "\n",
      "100%|██████████| 25789/25789 [00:06<00:00, 3752.28it/s]\n"
     ]
    },
    {
     "name": "stdout",
     "output_type": "stream",
     "text": [
      "Total de votos: 800095\n"
     ]
    }
   ],
   "source": [
    "print('Carregando votações...')\n",
    "votacoes_files = os.listdir('./data/votacoes')\n",
    "votacoes_files = [\n",
    "    file for file in votacoes_files if '2019' in file or '2020' in file or '2021' in file or '2022' in file]\n",
    "\n",
    "votacoes = []\n",
    "for votacao in tqdm(votacoes_files):\n",
    "    with open('./data/votacoes/' + votacao, 'r') as f:\n",
    "        data = json.load(f)\n",
    "    votacoes += data\n",
    "print(f'Total de votações: {len(votacoes)}')\n",
    "\n",
    "print('Carregando votos...')\n",
    "votacoes_ids = [vot['id'] for vot in votacoes]\n",
    "\n",
    "votos_files = os.listdir('./data/votos/')\n",
    "votos_files = [file for file in votos_files if file.split('.')[\n",
    "    0] in votacoes_ids]\n",
    "\n",
    "votos = []\n",
    "for v_vile in tqdm(votos_files):\n",
    "    with open('./data/votos/' + v_vile, 'r') as f:\n",
    "        data = json.load(f)\n",
    "    if len(data) == 0:\n",
    "        continue\n",
    "    id_votacao = v_vile.split('.')[0]\n",
    "    data = d = [{'id_votacao': id_votacao, 'tipoVoto': d['tipoVoto'],\n",
    "                 'dataRegistroVoto': d['dataRegistroVoto'], **d['deputado_']} for d in data]\n",
    "    votos += data\n",
    "\n",
    "print(f'Total de votos: {len(votos)}')\n",
    "\n",
    "df_votos = pd.DataFrame(votos)"
   ]
  },
  {
   "cell_type": "code",
   "execution_count": 12,
   "metadata": {},
   "outputs": [],
   "source": [
    "df_votos.to_csv('./data/fat_votos_2019-2022.csv', index=False)"
   ]
  },
  {
   "attachments": {},
   "cell_type": "markdown",
   "metadata": {},
   "source": [
    "# Profissões"
   ]
  },
  {
   "cell_type": "code",
   "execution_count": 13,
   "metadata": {},
   "outputs": [
    {
     "name": "stdout",
     "output_type": "stream",
     "text": [
      "Carregando profissões...\n"
     ]
    },
    {
     "name": "stderr",
     "output_type": "stream",
     "text": [
      "100%|██████████| 597/597 [00:00<00:00, 7070.57it/s]"
     ]
    },
    {
     "name": "stdout",
     "output_type": "stream",
     "text": [
      "Total de profissões: 802 \n",
      "Parlamentares sem profissões registradas: 0\n"
     ]
    },
    {
     "name": "stderr",
     "output_type": "stream",
     "text": [
      "\n"
     ]
    }
   ],
   "source": [
    "print('Carregando profissões...')\n",
    "ls_ids_parls_votos = df_votos['id'].unique()\n",
    "ls_ids_parls_votos = [str(p) for p in ls_ids_parls_votos]\n",
    "\n",
    "parls_profs = os.listdir('./data/parlamentares_profissoes/')\n",
    "parls_profs = [p for p in parls_profs if p.split('.')[0] in ls_ids_parls_votos]\n",
    "\n",
    "profs = []\n",
    "parls_sem_prof = 0\n",
    "for file in tqdm(parls_profs):\n",
    "    with open(f\"./data/parlamentares_profissoes/{file}\", 'r') as f:\n",
    "        data = json.load(f)\n",
    "    if len(data) == 0:\n",
    "        parls_sem_prof == 1\n",
    "        continue\n",
    "    id_parl = file.split('.')[0]\n",
    "    data = [{'id_parl': id_parl, **d} for d in data]\n",
    "    profs += data\n",
    "\n",
    "print(f'Total de profissões: {len(profs)} \\nParlamentares sem profissões registradas: {parls_sem_prof}')\n",
    "df_profs = pd.DataFrame(profs)\n",
    "\n",
    "df_dim_profs = pd.read_excel('./data/dim_profissoes_ficha.xlsx')\n",
    "\n",
    "df_profs_m = df_profs.merge(df_dim_profs[['codTipoProfissao', 'is_empresario']], how='left', on='codTipoProfissao')"
   ]
  },
  {
   "cell_type": "code",
   "execution_count": 21,
   "metadata": {},
   "outputs": [],
   "source": [
    "df_profs_m.to_csv('./data/fat_profissoes_2019-2023.csv', index=False)"
   ]
  },
  {
   "attachments": {},
   "cell_type": "markdown",
   "metadata": {},
   "source": [
    "# Orientações"
   ]
  },
  {
   "cell_type": "code",
   "execution_count": 15,
   "metadata": {},
   "outputs": [
    {
     "name": "stdout",
     "output_type": "stream",
     "text": [
      "Carregando orientações...\n"
     ]
    },
    {
     "name": "stderr",
     "output_type": "stream",
     "text": [
      "100%|██████████| 25789/25789 [00:02<00:00, 8786.28it/s]"
     ]
    },
    {
     "name": "stdout",
     "output_type": "stream",
     "text": [
      "Total de orientacoes: 53213\n"
     ]
    },
    {
     "name": "stderr",
     "output_type": "stream",
     "text": [
      "\n"
     ]
    }
   ],
   "source": [
    "print('Carregando orientações...')\n",
    "orient_files = os.listdir('./data/orientacoes/')\n",
    "orient_files = [file for file in orient_files if file.split('.')[\n",
    "    0] in votacoes_ids]\n",
    "\n",
    "orientacoes = []\n",
    "for ori_vile in tqdm(orient_files):\n",
    "    with open('./data/orientacoes/' + ori_vile, 'r') as f:\n",
    "        data = json.load(f)\n",
    "    if len(data) == 0:\n",
    "        continue\n",
    "    id_votacao = ori_vile.split('.')[0]\n",
    "    data = d = [{'id_votacao': id_votacao, **d} for d in data]\n",
    "    orientacoes += data\n",
    "\n",
    "print(f'Total de orientacoes: {len(orientacoes)}')\n",
    "\n",
    "df_orientacoes = pd.DataFrame(orientacoes)\n",
    "\n",
    "govs = [b for b in df_orientacoes['siglaPartidoBloco'].unique() if 'Gov' in b]\n",
    "df_orient_gov = df_orientacoes[df_orientacoes['siglaPartidoBloco'].isin(govs)].reset_index(drop=True)"
   ]
  },
  {
   "cell_type": "code",
   "execution_count": 16,
   "metadata": {},
   "outputs": [],
   "source": [
    "df_orientacoes.to_csv('./data/fat_orientacoes_2019-2022.csv', index=False)\n",
    "df_orient_gov.to_csv('./data/fat_orientacoes_gov_2019-2022.csv', index=False)"
   ]
  },
  {
   "attachments": {},
   "cell_type": "markdown",
   "metadata": {},
   "source": [
    "## Verificar sinal"
   ]
  },
  {
   "cell_type": "code",
   "execution_count": 17,
   "metadata": {},
   "outputs": [],
   "source": [
    "from enum import Enum\n",
    "# from core.tipo_voto import TipoVoto"
   ]
  },
  {
   "cell_type": "code",
   "execution_count": 18,
   "metadata": {},
   "outputs": [],
   "source": [
    "class TipoVoto(Enum):\n",
    "    SIM = 1\n",
    "    ABSTENÇÃO = 0\n",
    "    NÃO = -1\n",
    "    OBSTRUÇÃO = -1 \n",
    "    ARTIGO_17 = 0\n",
    "    NONE = 0\n",
    "    FAVORÁVEL_COM_RESTRIÇÕES = 1 \n",
    "    BRANCO = 0\n",
    "    LIBERADO = 0\n",
    "\n",
    "    @classmethod\n",
    "    def trat_voto(cls, voto: str) -> int:\n",
    "        voto_trat = str(voto).upper().replace(' ', '_')\n",
    "        if voto_trat == 'NAN' or voto_trat == '':\n",
    "            return None\n",
    "        return cls[voto_trat].value"
   ]
  },
  {
   "cell_type": "code",
   "execution_count": 19,
   "metadata": {},
   "outputs": [],
   "source": [
    "df_v_o = df_votos.merge(df_orient_gov, on='id_votacao', how='left')\n",
    "df_v_o['voto_trat'] = df_v_o['tipoVoto'].apply(lambda x: TipoVoto.trat_voto(x))\n",
    "df_v_o['orient_trat'] = df_v_o['orientacaoVoto'].apply(lambda x: TipoVoto.trat_voto(x))\n",
    "\n",
    "df_v_o['gov'] = df_v_o['voto_trat'] * df_v_o['orient_trat']\n",
    "\n",
    "df_v_o['ano'] = [date.split('-')[0] for date in df_v_o['dataRegistroVoto']]"
   ]
  },
  {
   "cell_type": "code",
   "execution_count": 20,
   "metadata": {},
   "outputs": [],
   "source": [
    "df_v_o.to_csv('./data/fat_votos_ori_gov_2019-2022.csv', index=False)"
   ]
  }
 ],
 "metadata": {
  "kernelspec": {
   "display_name": "Python 3",
   "language": "python",
   "name": "python3"
  },
  "language_info": {
   "codemirror_mode": {
    "name": "ipython",
    "version": 3
   },
   "file_extension": ".py",
   "mimetype": "text/x-python",
   "name": "python",
   "nbconvert_exporter": "python",
   "pygments_lexer": "ipython3",
   "version": "3.10.12"
  },
  "orig_nbformat": 4
 },
 "nbformat": 4,
 "nbformat_minor": 2
}
