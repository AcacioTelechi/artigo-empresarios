{
 "cells": [
  {
   "cell_type": "code",
   "execution_count": 60,
   "metadata": {},
   "outputs": [],
   "source": [
    "import pandas as pd\n",
    "import json\n",
    "import os\n",
    "from tqdm import tqdm\n",
    "import zipfile\n",
    "import unidecode\n",
    "from core.utils import trat_str, trat_cpf, trat_tit_eleitoral"
   ]
  },
  {
   "attachments": {},
   "cell_type": "markdown",
   "metadata": {},
   "source": [
    "# Encontrar o título eleitoral por parlamentar para cruzar com a base classificada"
   ]
  },
  {
   "attachments": {},
   "cell_type": "markdown",
   "metadata": {},
   "source": [
    "## Bases TSE"
   ]
  },
  {
   "cell_type": "code",
   "execution_count": null,
   "metadata": {},
   "outputs": [],
   "source": [
    "folder = './data/tse/candidatos/'\n",
    "files = os.listdir(folder)\n",
    "df_tse = pd.DataFrame()\n",
    "\n",
    "for file in tqdm(files):\n",
    "    with zipfile.ZipFile(folder + file) as f:\n",
    "        f_bra = [n for n in f.infolist()  if 'BRASIL' in n.filename][0]\n",
    "        df_cand = pd.read_csv(f.open(f_bra.filename), encoding='latin1', sep=';')\n",
    "        df_tse = pd.concat([df_tse, df_cand])\n",
    "\n",
    "df_tse = df_tse[df_tse['CD_CARGO'] == 6] # somente candidatos a dep. fed."
   ]
  },
  {
   "attachments": {},
   "cell_type": "markdown",
   "metadata": {},
   "source": [
    "## Econtrar id_parl para cada cpf"
   ]
  },
  {
   "cell_type": "code",
   "execution_count": null,
   "metadata": {},
   "outputs": [],
   "source": [
    "parls = []\n",
    "files = os.listdir('./data/parlamentares_detalhes/')\n",
    "for file in tqdm(files):\n",
    "    with open(f'./data/parlamentares_detalhes/{file}', 'r') as f:\n",
    "        parls += json.load(f)\n",
    "df_parls = pd.DataFrame(parls)\n",
    "\n",
    "df_parls['cpf_trat'] = df_parls['cpf'].apply(trat_cpf)\n",
    "df_tse['cpf_trat'] = df_tse['NR_CPF_CANDIDATO'].apply(trat_cpf)\n",
    "\n",
    "df_depara = df_parls.merge(df_tse, on='cpf_trat', how='left')\n",
    "\n",
    "df_depara = df_depara.loc[:, ['id', 'cpf', 'NR_TITULO_ELEITORAL_CANDIDATO']].drop_duplicates()\n",
    "df_depara.rename({'NR_TITULO_ELEITORAL_CANDIDATO': 'n_tit_eleitoral'}, axis=1, inplace=True)"
   ]
  },
  {
   "cell_type": "code",
   "execution_count": 200,
   "metadata": {},
   "outputs": [],
   "source": [
    "df_depara.to_excel('./data/depara_id_cpf_tit_eleitoral.xlsx', index=False)"
   ]
  },
  {
   "attachments": {},
   "cell_type": "markdown",
   "metadata": {},
   "source": [
    "## Base classificada"
   ]
  },
  {
   "cell_type": "code",
   "execution_count": 299,
   "metadata": {},
   "outputs": [],
   "source": [
    "df_clf = pd.read_excel('./data/BD_dep fed 98-14 artigo ALH.xlsx')\n",
    "\n",
    "df_clf['n_tit_eleitoral_trat'] = df_clf['n_tit_eleitoral'].apply(trat_tit_eleitoral)\n",
    "df_depara['n_tit_eleitoral_trat'] = df_depara['n_tit_eleitoral'].apply(trat_tit_eleitoral)\n",
    "\n",
    "df_final = df_clf.merge(df_depara, on='n_tit_eleitoral_trat', how='left')\n",
    "\n",
    "df_final = df_final.rename({'id_x': 'id', 'id_y': 'id_parl', 'n_tit_eleitoral_x': 'n_tit_eleitoral' }, axis=1)\n",
    "\n",
    "df_final = df_final[~df_final['id_parl'].isna()].reset_index(drop=True)\n",
    "\n",
    "df_final['id_parl'] = [str(int(id_)) for id_ in df_final['id_parl']]\n"
   ]
  },
  {
   "cell_type": "code",
   "execution_count": 314,
   "metadata": {},
   "outputs": [],
   "source": [
    "cols = ['id',\n",
    "'ano_eleicao',\n",
    "'n_tit_eleitoral_trat',\n",
    "'id_parl',\n",
    "'cpf',\n",
    "'nome_candidato',\n",
    "'nome_urna_cand',\n",
    "'ocupacao_declarada',\n",
    "'sexo',\n",
    "'mulher_eleita',\n",
    "'grau_instrucao',\n",
    "'educacao',\n",
    "'est_civil',\n",
    "'situacao_conjugal',\n",
    "'nacionalidade',\n",
    "'sig_uf_nasc',\n",
    "'mun_nasc',\n",
    "'eleito_sim_ou_nao',\n",
    "'tipo_eleito',\n",
    "'cor',\n",
    "'indio_sim_nao',\n",
    "'branco_sim_nao',\n",
    "'sigla_uf',\n",
    "'estado',\n",
    "'regiao',\n",
    "'id_data_eleicao',\n",
    "'cargo_disputado',\n",
    "'natureza_cargo',\n",
    "'situacao_candidatura',\n",
    "'num_partido',\n",
    "'sigla_partido',\n",
    "'nome_partido',\n",
    "'partidos_coligacao',\n",
    "'nome_coligacao',\n",
    "'ano_nascimento',\n",
    "]\n",
    "\n",
    "df_final[cols].to_excel('./data/fat_parlamentares.xlsx', index=False)"
   ]
  },
  {
   "attachments": {},
   "cell_type": "markdown",
   "metadata": {},
   "source": [
    "# Preparar base com votos"
   ]
  },
  {
   "cell_type": "code",
   "execution_count": 297,
   "metadata": {},
   "outputs": [],
   "source": [
    "from core.tipo_voto import TipoVoto"
   ]
  },
  {
   "cell_type": "code",
   "execution_count": 225,
   "metadata": {},
   "outputs": [],
   "source": [
    "votos_folder = './data/votos/'\n",
    "orient_folder = './data/orientacoes/'\n",
    "votos_files = os.listdir(votos_folder)"
   ]
  },
  {
   "cell_type": "code",
   "execution_count": 226,
   "metadata": {},
   "outputs": [
    {
     "name": "stderr",
     "output_type": "stream",
     "text": [
      "100%|██████████| 130036/130036 [22:31<00:00, 96.22it/s]  \n"
     ]
    }
   ],
   "source": [
    "votos = []\n",
    "orientacoes = []\n",
    "for file in tqdm(votos_files):\n",
    "    id_votacao = file.split('.')[0]\n",
    "    try:\n",
    "        with open(orient_folder + id_votacao + '.json') as f:\n",
    "            orients = json.load(f)\n",
    "            for orient in orients:\n",
    "                orient['id_votacao'] = id_votacao\n",
    "            orientacoes += orients\n",
    "    except FileNotFoundError:\n",
    "        continue\n",
    "    with open(votos_folder + file, 'r') as f:\n",
    "        vots = json.load(f)\n",
    "        for vot in vots:\n",
    "            vot['id_votacao'] = id_votacao\n",
    "        votos += vots"
   ]
  },
  {
   "cell_type": "code",
   "execution_count": 227,
   "metadata": {},
   "outputs": [],
   "source": [
    "df_votos = pd.DataFrame(votos)\n",
    "df_orient = pd.DataFrame(orientacoes)"
   ]
  },
  {
   "cell_type": "code",
   "execution_count": 236,
   "metadata": {},
   "outputs": [],
   "source": [
    "# REMOVER VOTACOES CONSENSUAIS\n",
    "NV_CONSENSUAL = .95\n",
    "df_votos['voto_trat'] = df_votos['tipoVoto'].apply(lambda x: TipoVoto.trat_voto(x))\n",
    "df_votos_dummies = df_votos.join(pd.get_dummies(df_votos['voto_trat']))\n",
    "df_votos_aggr = df_votos_dummies.groupby('id_votacao').sum(numeric_only=True)\n",
    "df_votos_aggr['tot_votos'] = df_votos_aggr[-1] + df_votos_aggr[0] + df_votos_aggr[1]\n",
    "df_votos_aggr['%_sim'] = df_votos_aggr[1] / df_votos_aggr['tot_votos']\n",
    "df_votos_aggr['is_cons'] = df_votos_aggr['%_sim'].apply(lambda x: x >= NV_CONSENSUAL or x < (1 - NV_CONSENSUAL))\n",
    "\n",
    "votacoes_nao_consensuais = df_votos_aggr[~df_votos_aggr['is_cons']].index"
   ]
  },
  {
   "cell_type": "code",
   "execution_count": 264,
   "metadata": {},
   "outputs": [],
   "source": [
    "# VERIFICAR ORIENTACOES\n",
    "govs = [sigla for sigla in df_orient['siglaPartidoBloco'].unique() if ('Gov' in sigla or 'GOV' in sigla)]"
   ]
  },
  {
   "cell_type": "code",
   "execution_count": 272,
   "metadata": {},
   "outputs": [],
   "source": [
    "# realizar merge apenas com orientações do governi, das votações não consensuais e que não seja \"Liberado\"\n",
    "df_orientacoes_gov = df_orient[(df_orient['siglaPartidoBloco'].isin(govs)) & \n",
    "    (df_orient['id_votacao'].isin(votacoes_nao_consensuais)) &\n",
    "    (df_orient['orientacaoVoto'] != 'Liberado')].reset_index(drop=True)\n",
    "df_merge = df_votos.merge(df_orientacoes_gov, on='id_votacao', how='inner')\n",
    "\n",
    "# VERIFICAR ORIENTAÇÃO DE ABSTENÇÃO"
   ]
  },
  {
   "cell_type": "code",
   "execution_count": 275,
   "metadata": {},
   "outputs": [],
   "source": [
    "df_merge['ori_trat'] = df_merge['orientacaoVoto'].apply(lambda x : TipoVoto.trat_voto(x))"
   ]
  },
  {
   "cell_type": "code",
   "execution_count": 277,
   "metadata": {},
   "outputs": [],
   "source": [
    "df_merge['gov'] = df_merge['voto_trat'] * df_merge['ori_trat']"
   ]
  },
  {
   "cell_type": "code",
   "execution_count": 279,
   "metadata": {},
   "outputs": [],
   "source": [
    "df_merge['id_parl'] = [dep['id'] for dep in df_merge['deputado_']]\n",
    "df_merge['ano'] = [data.split('-')[0] for data in df_merge['dataRegistroVoto']]"
   ]
  },
  {
   "cell_type": "code",
   "execution_count": 290,
   "metadata": {},
   "outputs": [],
   "source": [
    "df_merge = df_merge.join(pd.get_dummies(df_merge['ori_trat']).rename({-1: 'v_opo', 0: 'v_neutro', 1:'v_gov'}, axis=1))"
   ]
  },
  {
   "cell_type": "code",
   "execution_count": 293,
   "metadata": {},
   "outputs": [],
   "source": [
    "df_governismo = df_merge.groupby(['id_parl', 'ano']).agg({'id_votacao': 'count', 'v_opo': 'sum', 'v_neutro': 'sum', 'v_gov': 'sum'})\n",
    "df_governismo['governismo'] = df_governismo['v_gov'] / df_governismo['id_votacao']\n",
    "\n",
    "df_governismo.rename({'id_votacao': 'tot_votacoes'}, axis=1, inplace=True)\n",
    "\n",
    "df_governismo = df_governismo.reset_index()"
   ]
  },
  {
   "cell_type": "code",
   "execution_count": 315,
   "metadata": {},
   "outputs": [],
   "source": [
    "df_governismo.to_excel('./data/fat_governismo.xlsx', index=False)"
   ]
  }
 ],
 "metadata": {
  "kernelspec": {
   "display_name": "Python 3",
   "language": "python",
   "name": "python3"
  },
  "language_info": {
   "codemirror_mode": {
    "name": "ipython",
    "version": 3
   },
   "file_extension": ".py",
   "mimetype": "text/x-python",
   "name": "python",
   "nbconvert_exporter": "python",
   "pygments_lexer": "ipython3",
   "version": "3.11.1"
  },
  "orig_nbformat": 4
 },
 "nbformat": 4,
 "nbformat_minor": 2
}
